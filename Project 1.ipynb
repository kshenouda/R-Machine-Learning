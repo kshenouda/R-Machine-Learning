{
 "cells": [
  {
   "cell_type": "markdown",
   "id": "f9707479",
   "metadata": {},
   "source": [
    "# Income Logistic Regression Project\n",
    "\n",
    "My goal for this project is to create a classifier that predicts whether someone has an income below or over 50,000 dollars."
   ]
  },
  {
   "cell_type": "markdown",
   "id": "aefcb19e",
   "metadata": {},
   "source": [
    "## Get the Data"
   ]
  },
  {
   "cell_type": "code",
   "execution_count": 1,
   "id": "025582f5",
   "metadata": {},
   "outputs": [
    {
     "data": {
      "text/html": [
       "<table>\n",
       "<thead><tr><th scope=col>X</th><th scope=col>age</th><th scope=col>type_employer</th><th scope=col>fnlwgt</th><th scope=col>education</th><th scope=col>education_num</th><th scope=col>marital</th><th scope=col>occupation</th><th scope=col>relationship</th><th scope=col>race</th><th scope=col>sex</th><th scope=col>capital_gain</th><th scope=col>capital_loss</th><th scope=col>hr_per_week</th><th scope=col>country</th><th scope=col>income</th></tr></thead>\n",
       "<tbody>\n",
       "\t<tr><td>1                                                         </td><td>39                                                        </td><td><span style=white-space:pre-wrap>State-gov       </span>  </td><td> 77516                                                    </td><td>Bachelors                                                 </td><td>13                                                        </td><td><span style=white-space:pre-wrap>Never-married     </span></td><td><span style=white-space:pre-wrap>Adm-clerical     </span> </td><td>Not-in-family                                             </td><td>White                                                     </td><td><span style=white-space:pre-wrap>Male  </span>            </td><td>2174                                                      </td><td>0                                                         </td><td>40                                                        </td><td>United-States                                             </td><td>&lt;=50K                                                  </td></tr>\n",
       "\t<tr><td>2                                                        </td><td>50                                                       </td><td>Self-emp-not-inc                                         </td><td> 83311                                                   </td><td>Bachelors                                                </td><td>13                                                       </td><td>Married-civ-spouse                                       </td><td><span style=white-space:pre-wrap>Exec-managerial  </span></td><td><span style=white-space:pre-wrap>Husband      </span>    </td><td>White                                                    </td><td><span style=white-space:pre-wrap>Male  </span>           </td><td><span style=white-space:pre-wrap>   0</span>             </td><td>0                                                        </td><td>13                                                       </td><td>United-States                                            </td><td>&lt;=50K                                                 </td></tr>\n",
       "\t<tr><td>3                                                         </td><td>38                                                        </td><td><span style=white-space:pre-wrap>Private         </span>  </td><td>215646                                                    </td><td><span style=white-space:pre-wrap>HS-grad  </span>         </td><td> 9                                                        </td><td><span style=white-space:pre-wrap>Divorced          </span></td><td>Handlers-cleaners                                         </td><td>Not-in-family                                             </td><td>White                                                     </td><td><span style=white-space:pre-wrap>Male  </span>            </td><td><span style=white-space:pre-wrap>   0</span>              </td><td>0                                                         </td><td>40                                                        </td><td>United-States                                             </td><td>&lt;=50K                                                  </td></tr>\n",
       "\t<tr><td>4                                                       </td><td>53                                                      </td><td><span style=white-space:pre-wrap>Private         </span></td><td>234721                                                  </td><td><span style=white-space:pre-wrap>11th     </span>       </td><td> 7                                                      </td><td>Married-civ-spouse                                      </td><td>Handlers-cleaners                                       </td><td><span style=white-space:pre-wrap>Husband      </span>   </td><td>Black                                                   </td><td><span style=white-space:pre-wrap>Male  </span>          </td><td><span style=white-space:pre-wrap>   0</span>            </td><td>0                                                       </td><td>40                                                      </td><td>United-States                                           </td><td>&lt;=50K                                                </td></tr>\n",
       "\t<tr><td>5                                                        </td><td>28                                                       </td><td><span style=white-space:pre-wrap>Private         </span> </td><td>338409                                                   </td><td>Bachelors                                                </td><td>13                                                       </td><td>Married-civ-spouse                                       </td><td><span style=white-space:pre-wrap>Prof-specialty   </span></td><td><span style=white-space:pre-wrap>Wife         </span>    </td><td>Black                                                    </td><td>Female                                                   </td><td><span style=white-space:pre-wrap>   0</span>             </td><td>0                                                        </td><td>40                                                       </td><td><span style=white-space:pre-wrap>Cuba         </span>    </td><td>&lt;=50K                                                 </td></tr>\n",
       "\t<tr><td>6                                                        </td><td>37                                                       </td><td><span style=white-space:pre-wrap>Private         </span> </td><td>284582                                                   </td><td><span style=white-space:pre-wrap>Masters  </span>        </td><td>14                                                       </td><td>Married-civ-spouse                                       </td><td><span style=white-space:pre-wrap>Exec-managerial  </span></td><td><span style=white-space:pre-wrap>Wife         </span>    </td><td>White                                                    </td><td>Female                                                   </td><td><span style=white-space:pre-wrap>   0</span>             </td><td>0                                                        </td><td>40                                                       </td><td>United-States                                            </td><td>&lt;=50K                                                 </td></tr>\n",
       "</tbody>\n",
       "</table>\n"
      ],
      "text/latex": [
       "\\begin{tabular}{r|llllllllllllllll}\n",
       " X & age & type\\_employer & fnlwgt & education & education\\_num & marital & occupation & relationship & race & sex & capital\\_gain & capital\\_loss & hr\\_per\\_week & country & income\\\\\n",
       "\\hline\n",
       "\t 1                  & 39                 & State-gov          &  77516             & Bachelors          & 13                 & Never-married      & Adm-clerical       & Not-in-family      & White              & Male               & 2174               & 0                  & 40                 & United-States      & <=50K             \\\\\n",
       "\t 2                  & 50                 & Self-emp-not-inc   &  83311             & Bachelors          & 13                 & Married-civ-spouse & Exec-managerial    & Husband            & White              & Male               &    0               & 0                  & 13                 & United-States      & <=50K             \\\\\n",
       "\t 3                  & 38                 & Private            & 215646             & HS-grad            &  9                 & Divorced           & Handlers-cleaners  & Not-in-family      & White              & Male               &    0               & 0                  & 40                 & United-States      & <=50K             \\\\\n",
       "\t 4                  & 53                 & Private            & 234721             & 11th               &  7                 & Married-civ-spouse & Handlers-cleaners  & Husband            & Black              & Male               &    0               & 0                  & 40                 & United-States      & <=50K             \\\\\n",
       "\t 5                  & 28                 & Private            & 338409             & Bachelors          & 13                 & Married-civ-spouse & Prof-specialty     & Wife               & Black              & Female             &    0               & 0                  & 40                 & Cuba               & <=50K             \\\\\n",
       "\t 6                  & 37                 & Private            & 284582             & Masters            & 14                 & Married-civ-spouse & Exec-managerial    & Wife               & White              & Female             &    0               & 0                  & 40                 & United-States      & <=50K             \\\\\n",
       "\\end{tabular}\n"
      ],
      "text/markdown": [
       "\n",
       "| X | age | type_employer | fnlwgt | education | education_num | marital | occupation | relationship | race | sex | capital_gain | capital_loss | hr_per_week | country | income |\n",
       "|---|---|---|---|---|---|---|---|---|---|---|---|---|---|---|---|\n",
       "| 1                  | 39                 | State-gov          |  77516             | Bachelors          | 13                 | Never-married      | Adm-clerical       | Not-in-family      | White              | Male               | 2174               | 0                  | 40                 | United-States      | <=50K              |\n",
       "| 2                  | 50                 | Self-emp-not-inc   |  83311             | Bachelors          | 13                 | Married-civ-spouse | Exec-managerial    | Husband            | White              | Male               |    0               | 0                  | 13                 | United-States      | <=50K              |\n",
       "| 3                  | 38                 | Private            | 215646             | HS-grad            |  9                 | Divorced           | Handlers-cleaners  | Not-in-family      | White              | Male               |    0               | 0                  | 40                 | United-States      | <=50K              |\n",
       "| 4                  | 53                 | Private            | 234721             | 11th               |  7                 | Married-civ-spouse | Handlers-cleaners  | Husband            | Black              | Male               |    0               | 0                  | 40                 | United-States      | <=50K              |\n",
       "| 5                  | 28                 | Private            | 338409             | Bachelors          | 13                 | Married-civ-spouse | Prof-specialty     | Wife               | Black              | Female             |    0               | 0                  | 40                 | Cuba               | <=50K              |\n",
       "| 6                  | 37                 | Private            | 284582             | Masters            | 14                 | Married-civ-spouse | Exec-managerial    | Wife               | White              | Female             |    0               | 0                  | 40                 | United-States      | <=50K              |\n",
       "\n"
      ],
      "text/plain": [
       "  X age type_employer    fnlwgt education education_num marital           \n",
       "1 1 39  State-gov         77516 Bachelors 13            Never-married     \n",
       "2 2 50  Self-emp-not-inc  83311 Bachelors 13            Married-civ-spouse\n",
       "3 3 38  Private          215646 HS-grad    9            Divorced          \n",
       "4 4 53  Private          234721 11th       7            Married-civ-spouse\n",
       "5 5 28  Private          338409 Bachelors 13            Married-civ-spouse\n",
       "6 6 37  Private          284582 Masters   14            Married-civ-spouse\n",
       "  occupation        relationship  race  sex    capital_gain capital_loss\n",
       "1 Adm-clerical      Not-in-family White Male   2174         0           \n",
       "2 Exec-managerial   Husband       White Male      0         0           \n",
       "3 Handlers-cleaners Not-in-family White Male      0         0           \n",
       "4 Handlers-cleaners Husband       Black Male      0         0           \n",
       "5 Prof-specialty    Wife          Black Female    0         0           \n",
       "6 Exec-managerial   Wife          White Female    0         0           \n",
       "  hr_per_week country       income\n",
       "1 40          United-States <=50K \n",
       "2 13          United-States <=50K \n",
       "3 40          United-States <=50K \n",
       "4 40          United-States <=50K \n",
       "5 40          Cuba          <=50K \n",
       "6 40          United-States <=50K "
      ]
     },
     "metadata": {},
     "output_type": "display_data"
    }
   ],
   "source": [
    "adult = read.csv('/Users/kiroshenouda/Desktop/COMPSCI/R/R-Course-HTML-Notes/R-for-Data-Science-and-Machine-Learning/Training Exercises/Machine Learning Projects/CSV files for ML Projects/adult_sal.csv')\n",
    "head(adult)"
   ]
  },
  {
   "cell_type": "code",
   "execution_count": 2,
   "id": "5b86e846",
   "metadata": {},
   "outputs": [
    {
     "data": {
      "text/plain": [
       "       X              age                 type_employer       fnlwgt       \n",
       " Min.   :    1   Min.   :17.00   Private         :22696   Min.   :  12285  \n",
       " 1st Qu.: 8141   1st Qu.:28.00   Self-emp-not-inc: 2541   1st Qu.: 117827  \n",
       " Median :16281   Median :37.00   Local-gov       : 2093   Median : 178356  \n",
       " Mean   :16281   Mean   :38.58   ?               : 1836   Mean   : 189778  \n",
       " 3rd Qu.:24421   3rd Qu.:48.00   State-gov       : 1298   3rd Qu.: 237051  \n",
       " Max.   :32561   Max.   :90.00   Self-emp-inc    : 1116   Max.   :1484705  \n",
       "                                 (Other)         :  981                    \n",
       "        education     education_num                    marital     \n",
       " HS-grad     :10501   Min.   : 1.00   Divorced             : 4443  \n",
       " Some-college: 7291   1st Qu.: 9.00   Married-AF-spouse    :   23  \n",
       " Bachelors   : 5355   Median :10.00   Married-civ-spouse   :14976  \n",
       " Masters     : 1723   Mean   :10.08   Married-spouse-absent:  418  \n",
       " Assoc-voc   : 1382   3rd Qu.:12.00   Never-married        :10683  \n",
       " 11th        : 1175   Max.   :16.00   Separated            : 1025  \n",
       " (Other)     : 5134                   Widowed              :  993  \n",
       "           occupation           relationship                   race      \n",
       " Prof-specialty :4140   Husband       :13193   Amer-Indian-Eskimo:  311  \n",
       " Craft-repair   :4099   Not-in-family : 8305   Asian-Pac-Islander: 1039  \n",
       " Exec-managerial:4066   Other-relative:  981   Black             : 3124  \n",
       " Adm-clerical   :3770   Own-child     : 5068   Other             :  271  \n",
       " Sales          :3650   Unmarried     : 3446   White             :27816  \n",
       " Other-service  :3295   Wife          : 1568                             \n",
       " (Other)        :9541                                                    \n",
       "     sex         capital_gain    capital_loss     hr_per_week   \n",
       " Female:10771   Min.   :    0   Min.   :   0.0   Min.   : 1.00  \n",
       " Male  :21790   1st Qu.:    0   1st Qu.:   0.0   1st Qu.:40.00  \n",
       "                Median :    0   Median :   0.0   Median :40.00  \n",
       "                Mean   : 1078   Mean   :  87.3   Mean   :40.44  \n",
       "                3rd Qu.:    0   3rd Qu.:   0.0   3rd Qu.:45.00  \n",
       "                Max.   :99999   Max.   :4356.0   Max.   :99.00  \n",
       "                                                                \n",
       "          country        income     \n",
       " United-States:29170   <=50K:24720  \n",
       " Mexico       :  643   >50K : 7841  \n",
       " ?            :  583                \n",
       " Philippines  :  198                \n",
       " Germany      :  137                \n",
       " Canada       :  121                \n",
       " (Other)      : 1709                "
      ]
     },
     "metadata": {},
     "output_type": "display_data"
    }
   ],
   "source": [
    "summary(adult)"
   ]
  },
  {
   "cell_type": "code",
   "execution_count": 3,
   "id": "2fa1c371",
   "metadata": {},
   "outputs": [
    {
     "name": "stdout",
     "output_type": "stream",
     "text": [
      "'data.frame':\t32561 obs. of  16 variables:\n",
      " $ X            : int  1 2 3 4 5 6 7 8 9 10 ...\n",
      " $ age          : int  39 50 38 53 28 37 49 52 31 42 ...\n",
      " $ type_employer: Factor w/ 9 levels \"?\",\"Federal-gov\",..: 8 7 5 5 5 5 5 7 5 5 ...\n",
      " $ fnlwgt       : int  77516 83311 215646 234721 338409 284582 160187 209642 45781 159449 ...\n",
      " $ education    : Factor w/ 16 levels \"10th\",\"11th\",..: 10 10 12 2 10 13 7 12 13 10 ...\n",
      " $ education_num: int  13 13 9 7 13 14 5 9 14 13 ...\n",
      " $ marital      : Factor w/ 7 levels \"Divorced\",\"Married-AF-spouse\",..: 5 3 1 3 3 3 4 3 5 3 ...\n",
      " $ occupation   : Factor w/ 15 levels \"?\",\"Adm-clerical\",..: 2 5 7 7 11 5 9 5 11 5 ...\n",
      " $ relationship : Factor w/ 6 levels \"Husband\",\"Not-in-family\",..: 2 1 2 1 6 6 2 1 2 1 ...\n",
      " $ race         : Factor w/ 5 levels \"Amer-Indian-Eskimo\",..: 5 5 5 3 3 5 3 5 5 5 ...\n",
      " $ sex          : Factor w/ 2 levels \"Female\",\"Male\": 2 2 2 2 1 1 1 2 1 2 ...\n",
      " $ capital_gain : int  2174 0 0 0 0 0 0 0 14084 5178 ...\n",
      " $ capital_loss : int  0 0 0 0 0 0 0 0 0 0 ...\n",
      " $ hr_per_week  : int  40 13 40 40 40 40 16 45 50 40 ...\n",
      " $ country      : Factor w/ 42 levels \"?\",\"Cambodia\",..: 40 40 40 40 6 40 24 40 40 40 ...\n",
      " $ income       : Factor w/ 2 levels \"<=50K\",\">50K\": 1 1 1 1 1 1 1 2 2 2 ...\n"
     ]
    }
   ],
   "source": [
    "str(adult)"
   ]
  },
  {
   "cell_type": "markdown",
   "id": "94a0f959",
   "metadata": {},
   "source": [
    "## Data Cleaning"
   ]
  },
  {
   "cell_type": "code",
   "execution_count": 4,
   "id": "80ce17e4",
   "metadata": {},
   "outputs": [
    {
     "data": {
      "text/plain": [
       "\n",
       "               ?      Federal-gov        Local-gov     Never-worked \n",
       "            1836              960             2093                7 \n",
       "         Private     Self-emp-inc Self-emp-not-inc        State-gov \n",
       "           22696             1116             2541             1298 \n",
       "     Without-pay \n",
       "              14 "
      ]
     },
     "metadata": {},
     "output_type": "display_data"
    }
   ],
   "source": [
    "table(adult$type_employer)"
   ]
  },
  {
   "cell_type": "markdown",
   "id": "c4e1124e",
   "metadata": {},
   "source": [
    "I will clean these these columns by combining some of them together, thus reducing the number of factors for classification."
   ]
  },
  {
   "cell_type": "code",
   "execution_count": 5,
   "id": "40b90f0a",
   "metadata": {},
   "outputs": [],
   "source": [
    "unemployed = function(job) {\n",
    "    job = as.character(job)\n",
    "    if(job == 'Never-worked' | job == 'Without-pay') {\n",
    "        return('Unemployed')\n",
    "    } else {\n",
    "        return(job)\n",
    "    }\n",
    "}"
   ]
  },
  {
   "cell_type": "code",
   "execution_count": 6,
   "id": "38a1fd91",
   "metadata": {},
   "outputs": [
    {
     "data": {
      "text/plain": [
       "\n",
       "               ?      Federal-gov        Local-gov          Private \n",
       "            1836              960             2093            22696 \n",
       "    Self-emp-inc Self-emp-not-inc        State-gov       Unemployed \n",
       "            1116             2541             1298               21 "
      ]
     },
     "metadata": {},
     "output_type": "display_data"
    }
   ],
   "source": [
    "adult$type_employer = sapply(adult$type_employer, unemployed)\n",
    "table(adult$type_employer)"
   ]
  },
  {
   "cell_type": "code",
   "execution_count": 7,
   "id": "a8db8875",
   "metadata": {},
   "outputs": [],
   "source": [
    "selfemploy = function(job) {\n",
    "    job = as.character(job)\n",
    "    if(job == 'Self-emp-inc' | job == 'Self-emp-not-inc') {\n",
    "        return('Self-emp')\n",
    "    } else {\n",
    "        return(job)\n",
    "    }\n",
    "}"
   ]
  },
  {
   "cell_type": "code",
   "execution_count": 8,
   "id": "b51deefc",
   "metadata": {},
   "outputs": [
    {
     "data": {
      "text/plain": [
       "\n",
       "          ? Federal-gov   Local-gov     Private    Self-emp   State-gov \n",
       "       1836         960        2093       22696        3657        1298 \n",
       " Unemployed \n",
       "         21 "
      ]
     },
     "metadata": {},
     "output_type": "display_data"
    }
   ],
   "source": [
    "adult$type_employer = sapply(adult$type_employer, selfemploy)\n",
    "table(adult$type_employer)"
   ]
  },
  {
   "cell_type": "code",
   "execution_count": 9,
   "id": "10d67b59",
   "metadata": {},
   "outputs": [],
   "source": [
    "local = function(job) {\n",
    "    job = as.character(job)\n",
    "    if(job == 'Local-gov' | job == 'State-gov') {\n",
    "        return('SL-gov')\n",
    "    } else {\n",
    "        return(job)\n",
    "    }\n",
    "}"
   ]
  },
  {
   "cell_type": "code",
   "execution_count": 10,
   "id": "e050dea7",
   "metadata": {},
   "outputs": [
    {
     "data": {
      "text/plain": [
       "\n",
       "          ? Federal-gov     Private      SL-gov    Self-emp  Unemployed \n",
       "       1836         960       22696        3391        3657          21 "
      ]
     },
     "metadata": {},
     "output_type": "display_data"
    }
   ],
   "source": [
    "adult$type_employer = sapply(adult$type_employer, local)\n",
    "table(adult$type_employer)"
   ]
  },
  {
   "cell_type": "code",
   "execution_count": 11,
   "id": "0eb5d2f5",
   "metadata": {},
   "outputs": [
    {
     "data": {
      "text/plain": [
       "\n",
       "             Divorced     Married-AF-spouse    Married-civ-spouse \n",
       "                 4443                    23                 14976 \n",
       "Married-spouse-absent         Never-married             Separated \n",
       "                  418                 10683                  1025 \n",
       "              Widowed \n",
       "                  993 "
      ]
     },
     "metadata": {},
     "output_type": "display_data"
    }
   ],
   "source": [
    "table(adult$marital)"
   ]
  },
  {
   "cell_type": "markdown",
   "id": "bcb00dfe",
   "metadata": {},
   "source": [
    "Like the employment type column, I will clean the marital column by combining some of the columns together."
   ]
  },
  {
   "cell_type": "code",
   "execution_count": 12,
   "id": "a6922fda",
   "metadata": {},
   "outputs": [],
   "source": [
    "married = function(status) {\n",
    "    status = as.character(status)\n",
    "    if(status == 'Married-AF-spouse' | \n",
    "       status == 'Married-civ-spouse' |\n",
    "       status == 'Married-spouse-absent') {\n",
    "        return('Married')\n",
    "    } else if(status == 'Divorced' |\n",
    "              status == 'Separated' |\n",
    "              status == 'Widowed') {\n",
    "        return('Not-Married')\n",
    "    } else {\n",
    "        return(status)\n",
    "    }\n",
    "}"
   ]
  },
  {
   "cell_type": "code",
   "execution_count": 13,
   "id": "df5ecb31",
   "metadata": {},
   "outputs": [
    {
     "data": {
      "text/plain": [
       "\n",
       "      Married Never-married   Not-Married \n",
       "        15417         10683          6461 "
      ]
     },
     "metadata": {},
     "output_type": "display_data"
    }
   ],
   "source": [
    "adult$marital = sapply(adult$marital, married)\n",
    "table(adult$marital)"
   ]
  },
  {
   "cell_type": "code",
   "execution_count": 14,
   "id": "be96efdb",
   "metadata": {},
   "outputs": [
    {
     "data": {
      "text/plain": [
       "\n",
       "                         ?                   Cambodia \n",
       "                       583                         19 \n",
       "                    Canada                      China \n",
       "                       121                         75 \n",
       "                  Columbia                       Cuba \n",
       "                        59                         95 \n",
       "        Dominican-Republic                    Ecuador \n",
       "                        70                         28 \n",
       "               El-Salvador                    England \n",
       "                       106                         90 \n",
       "                    France                    Germany \n",
       "                        29                        137 \n",
       "                    Greece                  Guatemala \n",
       "                        29                         64 \n",
       "                     Haiti         Holand-Netherlands \n",
       "                        44                          1 \n",
       "                  Honduras                       Hong \n",
       "                        13                         20 \n",
       "                   Hungary                      India \n",
       "                        13                        100 \n",
       "                      Iran                    Ireland \n",
       "                        43                         24 \n",
       "                     Italy                    Jamaica \n",
       "                        73                         81 \n",
       "                     Japan                       Laos \n",
       "                        62                         18 \n",
       "                    Mexico                  Nicaragua \n",
       "                       643                         34 \n",
       "Outlying-US(Guam-USVI-etc)                       Peru \n",
       "                        14                         31 \n",
       "               Philippines                     Poland \n",
       "                       198                         60 \n",
       "                  Portugal                Puerto-Rico \n",
       "                        37                        114 \n",
       "                  Scotland                      South \n",
       "                        12                         80 \n",
       "                    Taiwan                   Thailand \n",
       "                        51                         18 \n",
       "           Trinadad&Tobago              United-States \n",
       "                        19                      29170 \n",
       "                   Vietnam                 Yugoslavia \n",
       "                        67                         16 "
      ]
     },
     "metadata": {},
     "output_type": "display_data"
    }
   ],
   "source": [
    "table(adult$country)"
   ]
  },
  {
   "cell_type": "markdown",
   "id": "79fc540a",
   "metadata": {},
   "source": [
    "I will reduce the number of countries by grouping countries of the same continent/region together."
   ]
  },
  {
   "cell_type": "code",
   "execution_count": 15,
   "id": "b5d0a270",
   "metadata": {},
   "outputs": [],
   "source": [
    "Asia = c('Cambodia', 'China', 'Hong', 'India', 'Iran', 'Japan',\n",
    "         'Laos', 'Philippines', 'Taiwan', 'Thailand', 'Vietnam')\n",
    "North.America = c('Canada', 'Puerto-Rico', 'United-States')\n",
    "Europe = c('England', 'France', 'Germany', 'Greece',\n",
    "           'Holand-Netherlands', 'Hungary', 'Ireland', 'Italy',\n",
    "           'Poland', 'Portugal', 'Scotland', 'Yugoslavia')\n",
    "Latin.and.South.America = c('Columbia', 'Cuba',\n",
    "                            'Dominican-Republic', 'Ecuador', \n",
    "                            'El-Salvador', 'Guatemala', 'Haiti', \n",
    "                            'Honduras', 'Mexico', 'Nicaragua', \n",
    "                            'Outlying-US(Guam-USVI-etc)', 'Peru', \n",
    "                            'Jamaica', 'Trinadad&Tobago')\n",
    "Other = c('South')"
   ]
  },
  {
   "cell_type": "code",
   "execution_count": 16,
   "id": "9ce9fd14",
   "metadata": {},
   "outputs": [],
   "source": [
    "region = function(country) {\n",
    "    if(country %in% Asia) {\n",
    "        return('Asia')\n",
    "    } else if(country %in% North.America) {\n",
    "        return('North.America')\n",
    "    } else if(country %in% Europe) {\n",
    "        return('Europe')\n",
    "    } else if(country %in% Latin.and.South.America) {\n",
    "        return('Latin.and.South.America')\n",
    "    } else {\n",
    "        return('Other')\n",
    "    }\n",
    "}"
   ]
  },
  {
   "cell_type": "code",
   "execution_count": 17,
   "id": "1d0dff3a",
   "metadata": {},
   "outputs": [],
   "source": [
    "adult$country = sapply(adult$country, region)"
   ]
  },
  {
   "cell_type": "code",
   "execution_count": 18,
   "id": "81fbbca2",
   "metadata": {},
   "outputs": [
    {
     "data": {
      "text/plain": [
       "\n",
       "                   Asia                  Europe Latin.and.South.America \n",
       "                    671                     521                    1301 \n",
       "          North.America                   Other \n",
       "                  29405                     663 "
      ]
     },
     "metadata": {},
     "output_type": "display_data"
    }
   ],
   "source": [
    "table(adult$country)"
   ]
  },
  {
   "cell_type": "markdown",
   "id": "32bebd2a",
   "metadata": {},
   "source": [
    "Since most of the variables are still continous, I will convert them to be factors for the classification model."
   ]
  },
  {
   "cell_type": "code",
   "execution_count": 19,
   "id": "218756c0",
   "metadata": {},
   "outputs": [],
   "source": [
    "adult$type_employer = factor(adult$type_employer)\n",
    "adult$education = factor(adult$education)\n",
    "adult$marital = factor(adult$marital)\n",
    "adult$occupation = factor(adult$occupation)\n",
    "adult$relationship = factor(adult$relationship)\n",
    "adult$race = factor(adult$race)\n",
    "adult$sex = factor(adult$sex)\n",
    "adult$country = factor(adult$country)\n",
    "adult$income = factor(adult$income)"
   ]
  },
  {
   "cell_type": "markdown",
   "id": "9230a165",
   "metadata": {},
   "source": [
    "# Missing Data"
   ]
  },
  {
   "cell_type": "code",
   "execution_count": 20,
   "id": "7168a2c1",
   "metadata": {},
   "outputs": [],
   "source": [
    "adult[adult == '?' | adult == ' ?'] = NA"
   ]
  },
  {
   "cell_type": "code",
   "execution_count": 21,
   "id": "2536232c",
   "metadata": {},
   "outputs": [
    {
     "data": {
      "text/plain": [
       "\n",
       "          ? Federal-gov     Private      SL-gov    Self-emp  Unemployed \n",
       "          0         960       22696        3391        3657          21 "
      ]
     },
     "metadata": {},
     "output_type": "display_data"
    }
   ],
   "source": [
    "table(adult$type_employer)"
   ]
  },
  {
   "cell_type": "code",
   "execution_count": 22,
   "id": "45bbf1c7",
   "metadata": {},
   "outputs": [],
   "source": [
    "adult = na.omit(adult)"
   ]
  },
  {
   "cell_type": "code",
   "execution_count": 23,
   "id": "0a3af8ad",
   "metadata": {},
   "outputs": [
    {
     "name": "stdout",
     "output_type": "stream",
     "text": [
      "'data.frame':\t30718 obs. of  15 variables:\n",
      " $ age          : int  39 50 38 53 28 37 49 52 31 42 ...\n",
      " $ type_employer: Factor w/ 6 levels \"?\",\"Federal-gov\",..: 4 5 3 3 3 3 3 5 3 3 ...\n",
      " $ fnlwgt       : int  77516 83311 215646 234721 338409 284582 160187 209642 45781 159449 ...\n",
      " $ education    : Factor w/ 16 levels \"10th\",\"11th\",..: 10 10 12 2 10 13 7 12 13 10 ...\n",
      " $ education_num: int  13 13 9 7 13 14 5 9 14 13 ...\n",
      " $ marital      : Factor w/ 3 levels \"Married\",\"Never-married\",..: 2 1 3 1 1 1 1 1 2 1 ...\n",
      " $ occupation   : Factor w/ 15 levels \"?\",\"Adm-clerical\",..: 2 5 7 7 11 5 9 5 11 5 ...\n",
      " $ relationship : Factor w/ 6 levels \"Husband\",\"Not-in-family\",..: 2 1 2 1 6 6 2 1 2 1 ...\n",
      " $ race         : Factor w/ 5 levels \"Amer-Indian-Eskimo\",..: 5 5 5 3 3 5 3 5 5 5 ...\n",
      " $ sex          : Factor w/ 2 levels \"Female\",\"Male\": 2 2 2 2 1 1 1 2 1 2 ...\n",
      " $ capital_gain : int  2174 0 0 0 0 0 0 0 14084 5178 ...\n",
      " $ capital_loss : int  0 0 0 0 0 0 0 0 0 0 ...\n",
      " $ hr_per_week  : int  40 13 40 40 40 40 16 45 50 40 ...\n",
      " $ country      : Factor w/ 5 levels \"Asia\",\"Europe\",..: 4 4 4 4 3 4 3 4 4 4 ...\n",
      " $ income       : Factor w/ 2 levels \"<=50K\",\">50K\": 1 1 1 1 1 1 1 2 2 2 ...\n"
     ]
    }
   ],
   "source": [
    "adult = adult[,-1]\n",
    "str(adult)"
   ]
  },
  {
   "cell_type": "code",
   "execution_count": 29,
   "id": "07846cc2",
   "metadata": {},
   "outputs": [],
   "source": [
    "names(adult)[names(adult) == 'country'] = 'region'"
   ]
  },
  {
   "cell_type": "markdown",
   "id": "a70893fc",
   "metadata": {},
   "source": [
    "# Building a Model"
   ]
  },
  {
   "cell_type": "code",
   "execution_count": 31,
   "id": "d7d2a778",
   "metadata": {},
   "outputs": [],
   "source": [
    "set.seed(101)\n",
    "sample = sort(sample(nrow(adult), nrow(adult) * 0.8))\n",
    "train = adult[sample, ]\n",
    "test = adult[-sample, ]"
   ]
  },
  {
   "cell_type": "code",
   "execution_count": 32,
   "id": "c3b68c68",
   "metadata": {},
   "outputs": [
    {
     "name": "stderr",
     "output_type": "stream",
     "text": [
      "Warning message:\n",
      "“glm.fit: fitted probabilities numerically 0 or 1 occurred”"
     ]
    },
    {
     "data": {
      "text/plain": [
       "\n",
       "Call:\n",
       "glm(formula = income ~ ., family = binomial(logit), data = train)\n",
       "\n",
       "Deviance Residuals: \n",
       "    Min       1Q   Median       3Q      Max  \n",
       "-5.2222  -0.5147  -0.1945  -0.0002   3.6421  \n",
       "\n",
       "Coefficients: (1 not defined because of singularities)\n",
       "                                Estimate Std. Error z value Pr(>|z|)    \n",
       "(Intercept)                   -5.698e+00  4.165e-01 -13.681  < 2e-16 ***\n",
       "age                            2.759e-02  1.877e-03  14.699  < 2e-16 ***\n",
       "type_employerPrivate          -4.893e-01  1.042e-01  -4.696 2.65e-06 ***\n",
       "type_employerSL-gov           -7.387e-01  1.173e-01  -6.297 3.03e-10 ***\n",
       "type_employerSelf-emp         -7.759e-01  1.156e-01  -6.709 1.96e-11 ***\n",
       "type_employerUnemployed       -1.343e+01  2.239e+02  -0.060 0.952160    \n",
       "fnlwgt                         6.288e-07  1.939e-07   3.242 0.001186 ** \n",
       "education11th                  1.264e-01  2.430e-01   0.520 0.602852    \n",
       "education12th                  5.674e-01  2.963e-01   1.915 0.055531 .  \n",
       "education1st-4th              -1.942e-01  5.024e-01  -0.387 0.699106    \n",
       "education5th-6th              -2.482e-01  3.968e-01  -0.625 0.531670    \n",
       "education7th-8th              -5.640e-01  2.782e-01  -2.027 0.042615 *  \n",
       "education9th                  -1.559e-01  3.049e-01  -0.511 0.609147    \n",
       "educationAssoc-acdm            1.384e+00  2.039e-01   6.786 1.15e-11 ***\n",
       "educationAssoc-voc             1.361e+00  1.971e-01   6.905 5.03e-12 ***\n",
       "educationBachelors             2.013e+00  1.835e-01  10.966  < 2e-16 ***\n",
       "educationDoctorate             3.115e+00  2.524e-01  12.342  < 2e-16 ***\n",
       "educationHS-grad               8.513e-01  1.791e-01   4.754 2.00e-06 ***\n",
       "educationMasters               2.340e+00  1.955e-01  11.967  < 2e-16 ***\n",
       "educationPreschool            -1.100e+01  1.281e+02  -0.086 0.931573    \n",
       "educationProf-school           2.926e+00  2.335e-01  12.535  < 2e-16 ***\n",
       "educationSome-college          1.250e+00  1.815e-01   6.890 5.58e-12 ***\n",
       "education_num                         NA         NA      NA       NA    \n",
       "maritalNever-married          -1.141e+00  1.907e-01  -5.985 2.16e-09 ***\n",
       "maritalNot-Married            -6.159e-01  1.902e-01  -3.238 0.001206 ** \n",
       "occupationArmed-Forces        -1.012e+00  1.567e+00  -0.646 0.518256    \n",
       "occupationCraft-repair         9.666e-02  8.999e-02   1.074 0.282804    \n",
       "occupationExec-managerial      8.973e-01  8.665e-02  10.356  < 2e-16 ***\n",
       "occupationFarming-fishing     -1.079e+00  1.583e-01  -6.814 9.49e-12 ***\n",
       "occupationHandlers-cleaners   -5.375e-01  1.549e-01  -3.470 0.000521 ***\n",
       "occupationMachine-op-inspct   -3.153e-01  1.149e-01  -2.744 0.006062 ** \n",
       "occupationOther-service       -8.029e-01  1.293e-01  -6.212 5.25e-10 ***\n",
       "occupationPriv-house-serv     -3.924e+00  1.944e+00  -2.018 0.043545 *  \n",
       "occupationProf-specialty       5.602e-01  9.111e-02   6.149 7.79e-10 ***\n",
       "occupationProtective-serv      7.399e-01  1.392e-01   5.314 1.07e-07 ***\n",
       "occupationSales                3.149e-01  9.230e-02   3.412 0.000645 ***\n",
       "occupationTech-support         6.791e-01  1.229e-01   5.526 3.28e-08 ***\n",
       "occupationTransport-moving    -1.269e-01  1.122e-01  -1.131 0.258221    \n",
       "relationshipNot-in-family     -1.040e+00  1.876e-01  -5.545 2.93e-08 ***\n",
       "relationshipOther-relative    -1.245e+00  2.518e-01  -4.943 7.71e-07 ***\n",
       "relationshipOwn-child         -1.975e+00  2.293e-01  -8.614  < 2e-16 ***\n",
       "relationshipUnmarried         -1.186e+00  2.081e-01  -5.701 1.19e-08 ***\n",
       "relationshipWife               1.305e+00  1.154e-01  11.307  < 2e-16 ***\n",
       "raceAsian-Pac-Islander         6.394e-01  3.110e-01   2.056 0.039816 *  \n",
       "raceBlack                      5.110e-01  2.794e-01   1.829 0.067375 .  \n",
       "raceOther                      2.088e-01  4.069e-01   0.513 0.607787    \n",
       "raceWhite                      6.088e-01  2.681e-01   2.271 0.023161 *  \n",
       "sexMale                        8.041e-01  8.750e-02   9.189  < 2e-16 ***\n",
       "capital_gain                   3.331e-04  1.227e-05  27.145  < 2e-16 ***\n",
       "capital_loss                   6.184e-04  4.231e-05  14.618  < 2e-16 ***\n",
       "hr_per_week                    3.056e-02  1.878e-03  16.273  < 2e-16 ***\n",
       "regionEurope                   4.773e-01  2.376e-01   2.009 0.044526 *  \n",
       "regionLatin.and.South.America -3.064e-01  2.417e-01  -1.268 0.204935    \n",
       "regionNorth.America            2.283e-01  1.913e-01   1.193 0.232798    \n",
       "regionOther                   -2.059e-01  2.185e-01  -0.942 0.345987    \n",
       "---\n",
       "Signif. codes:  0 ‘***’ 0.001 ‘**’ 0.01 ‘*’ 0.05 ‘.’ 0.1 ‘ ’ 1\n",
       "\n",
       "(Dispersion parameter for binomial family taken to be 1)\n",
       "\n",
       "    Null deviance: 27628  on 24573  degrees of freedom\n",
       "Residual deviance: 15883  on 24520  degrees of freedom\n",
       "AIC: 15991\n",
       "\n",
       "Number of Fisher Scoring iterations: 13\n"
      ]
     },
     "metadata": {},
     "output_type": "display_data"
    }
   ],
   "source": [
    "model1 = glm(income ~., family = binomial(logit), data = train)\n",
    "summary(model1)"
   ]
  },
  {
   "cell_type": "code",
   "execution_count": 33,
   "id": "ba571511",
   "metadata": {},
   "outputs": [
    {
     "name": "stdout",
     "output_type": "stream",
     "text": [
      "Start:  AIC=15990.52\n",
      "income ~ age + type_employer + fnlwgt + education + education_num + \n",
      "    marital + occupation + relationship + race + sex + capital_gain + \n",
      "    capital_loss + hr_per_week + region\n",
      "\n"
     ]
    },
    {
     "name": "stderr",
     "output_type": "stream",
     "text": [
      "Warning message:\n",
      "“glm.fit: fitted probabilities numerically 0 or 1 occurred”Warning message:\n",
      "“glm.fit: fitted probabilities numerically 0 or 1 occurred”Warning message:\n",
      "“glm.fit: fitted probabilities numerically 0 or 1 occurred”Warning message:\n",
      "“glm.fit: fitted probabilities numerically 0 or 1 occurred”Warning message:\n",
      "“glm.fit: fitted probabilities numerically 0 or 1 occurred”Warning message:\n",
      "“glm.fit: fitted probabilities numerically 0 or 1 occurred”Warning message:\n",
      "“glm.fit: fitted probabilities numerically 0 or 1 occurred”Warning message:\n",
      "“glm.fit: fitted probabilities numerically 0 or 1 occurred”Warning message:\n",
      "“glm.fit: fitted probabilities numerically 0 or 1 occurred”Warning message:\n",
      "“glm.fit: fitted probabilities numerically 0 or 1 occurred”Warning message:\n",
      "“glm.fit: fitted probabilities numerically 0 or 1 occurred”Warning message:\n",
      "“glm.fit: fitted probabilities numerically 0 or 1 occurred”Warning message:\n",
      "“glm.fit: fitted probabilities numerically 0 or 1 occurred”Warning message:\n",
      "“glm.fit: fitted probabilities numerically 0 or 1 occurred”"
     ]
    },
    {
     "name": "stdout",
     "output_type": "stream",
     "text": [
      "\n",
      "Step:  AIC=15990.52\n",
      "income ~ age + type_employer + fnlwgt + education + marital + \n",
      "    occupation + relationship + race + sex + capital_gain + capital_loss + \n",
      "    hr_per_week + region\n",
      "\n"
     ]
    },
    {
     "name": "stderr",
     "output_type": "stream",
     "text": [
      "Warning message:\n",
      "“glm.fit: fitted probabilities numerically 0 or 1 occurred”Warning message:\n",
      "“glm.fit: fitted probabilities numerically 0 or 1 occurred”Warning message:\n",
      "“glm.fit: fitted probabilities numerically 0 or 1 occurred”Warning message:\n",
      "“glm.fit: fitted probabilities numerically 0 or 1 occurred”Warning message:\n",
      "“glm.fit: fitted probabilities numerically 0 or 1 occurred”Warning message:\n",
      "“glm.fit: fitted probabilities numerically 0 or 1 occurred”Warning message:\n",
      "“glm.fit: fitted probabilities numerically 0 or 1 occurred”Warning message:\n",
      "“glm.fit: fitted probabilities numerically 0 or 1 occurred”Warning message:\n",
      "“glm.fit: fitted probabilities numerically 0 or 1 occurred”Warning message:\n",
      "“glm.fit: fitted probabilities numerically 0 or 1 occurred”Warning message:\n",
      "“glm.fit: fitted probabilities numerically 0 or 1 occurred”Warning message:\n",
      "“glm.fit: fitted probabilities numerically 0 or 1 occurred”"
     ]
    },
    {
     "name": "stdout",
     "output_type": "stream",
     "text": [
      "                Df Deviance   AIC\n",
      "<none>                15882 15990\n",
      "- race           4    15891 15991\n",
      "- fnlwgt         1    15893 15999\n",
      "- region         4    15907 16007\n",
      "- marital        2    15935 16039\n",
      "- type_employer  4    15950 16050\n",
      "- sex            1    15970 16076\n",
      "- age            1    16101 16207\n",
      "- capital_loss   1    16102 16208\n",
      "- hr_per_week    1    16155 16261\n",
      "- relationship   5    16171 16269\n",
      "- occupation    13    16431 16513\n",
      "- education     15    16710 16788\n",
      "- capital_gain   1    17316 17422\n"
     ]
    }
   ],
   "source": [
    "model2 = step(model1)"
   ]
  },
  {
   "cell_type": "code",
   "execution_count": 34,
   "id": "dc163aae",
   "metadata": {},
   "outputs": [
    {
     "data": {
      "text/plain": [
       "\n",
       "Call:\n",
       "glm(formula = income ~ age + type_employer + fnlwgt + education + \n",
       "    marital + occupation + relationship + race + sex + capital_gain + \n",
       "    capital_loss + hr_per_week + region, family = binomial(logit), \n",
       "    data = train)\n",
       "\n",
       "Deviance Residuals: \n",
       "    Min       1Q   Median       3Q      Max  \n",
       "-5.2222  -0.5147  -0.1945  -0.0002   3.6421  \n",
       "\n",
       "Coefficients:\n",
       "                                Estimate Std. Error z value Pr(>|z|)    \n",
       "(Intercept)                   -5.698e+00  4.165e-01 -13.681  < 2e-16 ***\n",
       "age                            2.759e-02  1.877e-03  14.699  < 2e-16 ***\n",
       "type_employerPrivate          -4.893e-01  1.042e-01  -4.696 2.65e-06 ***\n",
       "type_employerSL-gov           -7.387e-01  1.173e-01  -6.297 3.03e-10 ***\n",
       "type_employerSelf-emp         -7.759e-01  1.156e-01  -6.709 1.96e-11 ***\n",
       "type_employerUnemployed       -1.343e+01  2.239e+02  -0.060 0.952160    \n",
       "fnlwgt                         6.288e-07  1.939e-07   3.242 0.001186 ** \n",
       "education11th                  1.264e-01  2.430e-01   0.520 0.602852    \n",
       "education12th                  5.674e-01  2.963e-01   1.915 0.055531 .  \n",
       "education1st-4th              -1.942e-01  5.024e-01  -0.387 0.699106    \n",
       "education5th-6th              -2.482e-01  3.968e-01  -0.625 0.531670    \n",
       "education7th-8th              -5.640e-01  2.782e-01  -2.027 0.042615 *  \n",
       "education9th                  -1.559e-01  3.049e-01  -0.511 0.609147    \n",
       "educationAssoc-acdm            1.384e+00  2.039e-01   6.786 1.15e-11 ***\n",
       "educationAssoc-voc             1.361e+00  1.971e-01   6.905 5.03e-12 ***\n",
       "educationBachelors             2.013e+00  1.835e-01  10.966  < 2e-16 ***\n",
       "educationDoctorate             3.115e+00  2.524e-01  12.342  < 2e-16 ***\n",
       "educationHS-grad               8.513e-01  1.791e-01   4.754 2.00e-06 ***\n",
       "educationMasters               2.340e+00  1.955e-01  11.967  < 2e-16 ***\n",
       "educationPreschool            -1.100e+01  1.281e+02  -0.086 0.931573    \n",
       "educationProf-school           2.926e+00  2.335e-01  12.535  < 2e-16 ***\n",
       "educationSome-college          1.250e+00  1.815e-01   6.890 5.58e-12 ***\n",
       "maritalNever-married          -1.141e+00  1.907e-01  -5.985 2.16e-09 ***\n",
       "maritalNot-Married            -6.159e-01  1.902e-01  -3.238 0.001206 ** \n",
       "occupationArmed-Forces        -1.012e+00  1.567e+00  -0.646 0.518256    \n",
       "occupationCraft-repair         9.666e-02  8.999e-02   1.074 0.282804    \n",
       "occupationExec-managerial      8.973e-01  8.665e-02  10.356  < 2e-16 ***\n",
       "occupationFarming-fishing     -1.079e+00  1.583e-01  -6.814 9.49e-12 ***\n",
       "occupationHandlers-cleaners   -5.375e-01  1.549e-01  -3.470 0.000521 ***\n",
       "occupationMachine-op-inspct   -3.153e-01  1.149e-01  -2.744 0.006062 ** \n",
       "occupationOther-service       -8.029e-01  1.293e-01  -6.212 5.25e-10 ***\n",
       "occupationPriv-house-serv     -3.924e+00  1.944e+00  -2.018 0.043545 *  \n",
       "occupationProf-specialty       5.602e-01  9.111e-02   6.149 7.79e-10 ***\n",
       "occupationProtective-serv      7.399e-01  1.392e-01   5.314 1.07e-07 ***\n",
       "occupationSales                3.149e-01  9.230e-02   3.412 0.000645 ***\n",
       "occupationTech-support         6.791e-01  1.229e-01   5.526 3.28e-08 ***\n",
       "occupationTransport-moving    -1.269e-01  1.122e-01  -1.131 0.258221    \n",
       "relationshipNot-in-family     -1.040e+00  1.876e-01  -5.545 2.93e-08 ***\n",
       "relationshipOther-relative    -1.245e+00  2.518e-01  -4.943 7.71e-07 ***\n",
       "relationshipOwn-child         -1.975e+00  2.293e-01  -8.614  < 2e-16 ***\n",
       "relationshipUnmarried         -1.186e+00  2.081e-01  -5.701 1.19e-08 ***\n",
       "relationshipWife               1.305e+00  1.154e-01  11.307  < 2e-16 ***\n",
       "raceAsian-Pac-Islander         6.394e-01  3.110e-01   2.056 0.039816 *  \n",
       "raceBlack                      5.110e-01  2.794e-01   1.829 0.067375 .  \n",
       "raceOther                      2.088e-01  4.069e-01   0.513 0.607787    \n",
       "raceWhite                      6.088e-01  2.681e-01   2.271 0.023161 *  \n",
       "sexMale                        8.041e-01  8.750e-02   9.189  < 2e-16 ***\n",
       "capital_gain                   3.331e-04  1.227e-05  27.145  < 2e-16 ***\n",
       "capital_loss                   6.184e-04  4.231e-05  14.618  < 2e-16 ***\n",
       "hr_per_week                    3.056e-02  1.878e-03  16.273  < 2e-16 ***\n",
       "regionEurope                   4.773e-01  2.376e-01   2.009 0.044526 *  \n",
       "regionLatin.and.South.America -3.064e-01  2.417e-01  -1.268 0.204935    \n",
       "regionNorth.America            2.283e-01  1.913e-01   1.193 0.232798    \n",
       "regionOther                   -2.059e-01  2.185e-01  -0.942 0.345987    \n",
       "---\n",
       "Signif. codes:  0 ‘***’ 0.001 ‘**’ 0.01 ‘*’ 0.05 ‘.’ 0.1 ‘ ’ 1\n",
       "\n",
       "(Dispersion parameter for binomial family taken to be 1)\n",
       "\n",
       "    Null deviance: 27628  on 24573  degrees of freedom\n",
       "Residual deviance: 15883  on 24520  degrees of freedom\n",
       "AIC: 15991\n",
       "\n",
       "Number of Fisher Scoring iterations: 13\n"
      ]
     },
     "metadata": {},
     "output_type": "display_data"
    }
   ],
   "source": [
    "summary(model2)"
   ]
  },
  {
   "cell_type": "code",
   "execution_count": 36,
   "id": "af30189c",
   "metadata": {},
   "outputs": [
    {
     "name": "stderr",
     "output_type": "stream",
     "text": [
      "Warning message in predict.lm(object, newdata, se.fit, scale = 1, type = if (type == :\n",
      "“prediction from a rank-deficient fit may be misleading”"
     ]
    }
   ],
   "source": [
    "test$predict = predict(model1, newdata = test, type = 'response')"
   ]
  },
  {
   "cell_type": "code",
   "execution_count": 37,
   "id": "df2689a5",
   "metadata": {},
   "outputs": [
    {
     "data": {
      "text/plain": [
       "       \n",
       "        FALSE TRUE\n",
       "  <=50K  4218  415\n",
       "  >50K    591  920"
      ]
     },
     "metadata": {},
     "output_type": "display_data"
    }
   ],
   "source": [
    "table(test$income, test$predict > 0.5)"
   ]
  },
  {
   "cell_type": "code",
   "execution_count": 38,
   "id": "49bde0eb",
   "metadata": {},
   "outputs": [
    {
     "data": {
      "text/html": [
       "0.836263020833333"
      ],
      "text/latex": [
       "0.836263020833333"
      ],
      "text/markdown": [
       "0.836263020833333"
      ],
      "text/plain": [
       "[1] 0.836263"
      ]
     },
     "metadata": {},
     "output_type": "display_data"
    }
   ],
   "source": [
    "(4218+920)/(4218+920+591+415)"
   ]
  },
  {
   "cell_type": "markdown",
   "id": "edf151e3",
   "metadata": {},
   "source": [
    "The model has an accuracy rate of about 83.63%."
   ]
  },
  {
   "cell_type": "code",
   "execution_count": 39,
   "id": "a4c34041",
   "metadata": {},
   "outputs": [
    {
     "data": {
      "text/html": [
       "0.910425210446795"
      ],
      "text/latex": [
       "0.910425210446795"
      ],
      "text/markdown": [
       "0.910425210446795"
      ],
      "text/plain": [
       "[1] 0.9104252"
      ]
     },
     "metadata": {},
     "output_type": "display_data"
    }
   ],
   "source": [
    "(4218)/(4218+415)"
   ]
  },
  {
   "cell_type": "markdown",
   "id": "259558ea",
   "metadata": {},
   "source": [
    "The model has a recall of about 91%."
   ]
  },
  {
   "cell_type": "code",
   "execution_count": 40,
   "id": "97da1b9b",
   "metadata": {},
   "outputs": [
    {
     "data": {
      "text/html": [
       "0.877105427323768"
      ],
      "text/latex": [
       "0.877105427323768"
      ],
      "text/markdown": [
       "0.877105427323768"
      ],
      "text/plain": [
       "[1] 0.8771054"
      ]
     },
     "metadata": {},
     "output_type": "display_data"
    }
   ],
   "source": [
    "(4218)/(4218+591)"
   ]
  },
  {
   "cell_type": "markdown",
   "id": "3101f467",
   "metadata": {},
   "source": [
    "The model has a precision of about 87.7%."
   ]
  },
  {
   "cell_type": "markdown",
   "id": "3a630b9d",
   "metadata": {},
   "source": [
    "I think that this is a good model, but it can be improved by refining the variables that have little or no significance in predicting one's income, like race and region."
   ]
  }
 ],
 "metadata": {
  "kernelspec": {
   "display_name": "R",
   "language": "R",
   "name": "ir"
  },
  "language_info": {
   "codemirror_mode": "r",
   "file_extension": ".r",
   "mimetype": "text/x-r-source",
   "name": "R",
   "pygments_lexer": "r",
   "version": "3.6.1"
  }
 },
 "nbformat": 4,
 "nbformat_minor": 5
}
